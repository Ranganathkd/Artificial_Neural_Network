{
 "cells": [
  {
   "cell_type": "markdown",
   "metadata": {},
   "source": [
    "import tensorflow as tf\n",
    "import pandas as pd\n",
    "import numpy as np\n",
    "from sklearn.model_selection import train_test_split\n",
    "\n",
    "from tensorflow.keras import layers\n",
    "\n",
    "tf.__version__\n",
    "\n",
    "dataframe = pd.read_csv('heart.csv')\n",
    "\n",
    "dataframe.head(10)\n",
    "\n",
    "dataframe.shape\n",
    "\n",
    "x = dataframe.drop(['target'], axis=1)\n",
    "y = dataframe['target']\n",
    "\n",
    "x.head()\n",
    "\n",
    "y.head()\n",
    "\n",
    "x_train, x_test, y_train, y_test = train_test_split(x,y,test_size=.4)\n",
    "\n",
    "print(x_train.shape)\n",
    "print(x_test.shape)\n",
    "\n",
    "from tensorflow.keras import layers, model\n",
    "\n",
    "def build_model():\n",
    "    model = model.Sequesntial()\n",
    "    model.add(layers.Dense(32, activation='relu', input_shape=(x_train.shape[1],)))\n",
    "    model.add(layers.Dense(64, activation='relu'))\n",
    "    model.add(layers.Dense(1, activation='sigmoid'))\n",
    "    \n",
    "    model.compile(optimizer='rmsprop', loss='binary_crossentropy', metrics=['accuracy'])\n",
    "    \n",
    "    return model\n",
    "\n",
    "\n",
    "\n",
    "model = build_model()\n",
    "\n",
    "hist = model.fit(x_train, y_train, epochs=20, batch_size=10, validation_split=.1, verbose=1)"
   ]
  }
 ],
 "metadata": {
  "kernelspec": {
   "display_name": "Python 3",
   "language": "python",
   "name": "python3"
  },
  "language_info": {
   "codemirror_mode": {
    "name": "ipython",
    "version": 3
   },
   "file_extension": ".py",
   "mimetype": "text/x-python",
   "name": "python",
   "nbconvert_exporter": "python",
   "pygments_lexer": "ipython3",
   "version": "3.7.3"
  }
 },
 "nbformat": 4,
 "nbformat_minor": 2
}
